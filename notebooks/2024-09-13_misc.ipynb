{
 "cells": [
  {
   "cell_type": "code",
   "execution_count": 1,
   "metadata": {},
   "outputs": [],
   "source": [
    "import gpytorch"
   ]
  },
  {
   "cell_type": "code",
   "execution_count": null,
   "metadata": {},
   "outputs": [],
   "source": []
  },
  {
   "cell_type": "code",
   "execution_count": 96,
   "metadata": {},
   "outputs": [
    {
     "ename": "RuntimeError",
     "evalue": "Flattening the training labels failed. The most common cause of this error is that the shapes of the prior mean and the training labels are mismatched. The shape of the train targets is torch.Size([100, 1]), while the reported shape of the mean is torch.Size([100]).",
     "output_type": "error",
     "traceback": [
      "\u001b[0;31m---------------------------------------------------------------------------\u001b[0m",
      "\u001b[0;31mRuntimeError\u001b[0m                              Traceback (most recent call last)",
      "File \u001b[0;32m~/ws/robust_BO/rbo-env/lib/python3.12/site-packages/gpytorch/models/exact_prediction_strategies.py:48\u001b[0m, in \u001b[0;36mDefaultPredictionStrategy.__init__\u001b[0;34m(self, train_inputs, train_prior_dist, train_labels, likelihood, root, inv_root)\u001b[0m\n\u001b[1;32m     47\u001b[0m \u001b[38;5;28;01mtry\u001b[39;00m:\n\u001b[0;32m---> 48\u001b[0m     train_labels \u001b[38;5;241m=\u001b[39m \u001b[43mtrain_labels\u001b[49m\u001b[38;5;241;43m.\u001b[39;49m\u001b[43mreshape\u001b[49m\u001b[43m(\u001b[49m\n\u001b[1;32m     49\u001b[0m \u001b[43m        \u001b[49m\u001b[38;5;241;43m*\u001b[39;49m\u001b[43mtrain_labels\u001b[49m\u001b[38;5;241;43m.\u001b[39;49m\u001b[43mshape\u001b[49m\u001b[43m[\u001b[49m\u001b[43m:\u001b[49m\u001b[43m \u001b[49m\u001b[38;5;241;43m-\u001b[39;49m\u001b[38;5;28;43mlen\u001b[39;49m\u001b[43m(\u001b[49m\u001b[38;5;28;43mself\u001b[39;49m\u001b[38;5;241;43m.\u001b[39;49m\u001b[43mtrain_shape\u001b[49m\u001b[43m)\u001b[49m\u001b[43m]\u001b[49m\u001b[43m,\u001b[49m\u001b[43m \u001b[49m\u001b[38;5;28;43mself\u001b[39;49m\u001b[38;5;241;43m.\u001b[39;49m\u001b[43m_train_shape\u001b[49m\u001b[38;5;241;43m.\u001b[39;49m\u001b[43mnumel\u001b[49m\u001b[43m(\u001b[49m\u001b[43m)\u001b[49m\n\u001b[1;32m     50\u001b[0m \u001b[43m    \u001b[49m\u001b[43m)\u001b[49m\n\u001b[1;32m     51\u001b[0m \u001b[38;5;28;01mexcept\u001b[39;00m \u001b[38;5;167;01mRuntimeError\u001b[39;00m:\n",
      "\u001b[0;31mRuntimeError\u001b[0m: shape '[100, 100]' is invalid for input of size 100",
      "\nDuring handling of the above exception, another exception occurred:\n",
      "\u001b[0;31mRuntimeError\u001b[0m                              Traceback (most recent call last)",
      "Cell \u001b[0;32mIn[96], line 105\u001b[0m\n\u001b[1;32m    102\u001b[0m x \u001b[38;5;241m=\u001b[39m torch\u001b[38;5;241m.\u001b[39mlinspace(\u001b[38;5;241m-\u001b[39m\u001b[38;5;241m5\u001b[39m, \u001b[38;5;241m5\u001b[39m, \u001b[38;5;241m100\u001b[39m)\n\u001b[1;32m    104\u001b[0m \u001b[38;5;66;03m# Generate the sample path\u001b[39;00m\n\u001b[0;32m--> 105\u001b[0m sample_path \u001b[38;5;241m=\u001b[39m \u001b[43mgp_function\u001b[49m\u001b[43m(\u001b[49m\u001b[43mx\u001b[49m\u001b[43m)\u001b[49m\n\u001b[1;32m    107\u001b[0m \u001b[38;5;66;03m# Print or plot the result (e.g., using matplotlib)\u001b[39;00m\n\u001b[1;32m    108\u001b[0m \u001b[38;5;28mprint\u001b[39m(sample_path)\n",
      "Cell \u001b[0;32mIn[96], line 62\u001b[0m, in \u001b[0;36mGPFunctionWithOutliers.__call__\u001b[0;34m(self, x)\u001b[0m\n\u001b[1;32m     60\u001b[0m \u001b[38;5;66;03m# Generate the sample path from the GP posterior\u001b[39;00m\n\u001b[1;32m     61\u001b[0m \u001b[38;5;28;01mwith\u001b[39;00m torch\u001b[38;5;241m.\u001b[39mno_grad():\n\u001b[0;32m---> 62\u001b[0m     observed_pred \u001b[38;5;241m=\u001b[39m \u001b[38;5;28mself\u001b[39m\u001b[38;5;241m.\u001b[39mlikelihood(\u001b[43mmodel\u001b[49m\u001b[43m(\u001b[49m\u001b[43mx\u001b[49m\u001b[43m)\u001b[49m)\n\u001b[1;32m     63\u001b[0m     sample_path \u001b[38;5;241m=\u001b[39m observed_pred\u001b[38;5;241m.\u001b[39mmean\n\u001b[1;32m     65\u001b[0m \u001b[38;5;66;03m# # Apply outliers based on outlier ratio\u001b[39;00m\n\u001b[1;32m     66\u001b[0m \u001b[38;5;66;03m# for i in range(sample_path.size(0)):\u001b[39;00m\n\u001b[1;32m     67\u001b[0m \u001b[38;5;66;03m#     if torch.rand(1).item() < self.outlier_ratio:\u001b[39;00m\n\u001b[1;32m     68\u001b[0m \u001b[38;5;66;03m#         sample_path[i] += (torch.rand(1) - 0.5) * self.kernel_params.get('outlier_noise_scale', 1.0)\u001b[39;00m\n",
      "File \u001b[0;32m~/ws/robust_BO/rbo-env/lib/python3.12/site-packages/gpytorch/models/exact_gp.py:294\u001b[0m, in \u001b[0;36mExactGP.__call__\u001b[0;34m(self, *args, **kwargs)\u001b[0m\n\u001b[1;32m    291\u001b[0m     train_output \u001b[38;5;241m=\u001b[39m \u001b[38;5;28msuper\u001b[39m()\u001b[38;5;241m.\u001b[39m\u001b[38;5;21m__call__\u001b[39m(\u001b[38;5;241m*\u001b[39mtrain_inputs, \u001b[38;5;241m*\u001b[39m\u001b[38;5;241m*\u001b[39mkwargs)\n\u001b[1;32m    293\u001b[0m     \u001b[38;5;66;03m# Create the prediction strategy for\u001b[39;00m\n\u001b[0;32m--> 294\u001b[0m     \u001b[38;5;28mself\u001b[39m\u001b[38;5;241m.\u001b[39mprediction_strategy \u001b[38;5;241m=\u001b[39m \u001b[43mprediction_strategy\u001b[49m\u001b[43m(\u001b[49m\n\u001b[1;32m    295\u001b[0m \u001b[43m        \u001b[49m\u001b[43mtrain_inputs\u001b[49m\u001b[38;5;241;43m=\u001b[39;49m\u001b[43mtrain_inputs\u001b[49m\u001b[43m,\u001b[49m\n\u001b[1;32m    296\u001b[0m \u001b[43m        \u001b[49m\u001b[43mtrain_prior_dist\u001b[49m\u001b[38;5;241;43m=\u001b[39;49m\u001b[43mtrain_output\u001b[49m\u001b[43m,\u001b[49m\n\u001b[1;32m    297\u001b[0m \u001b[43m        \u001b[49m\u001b[43mtrain_labels\u001b[49m\u001b[38;5;241;43m=\u001b[39;49m\u001b[38;5;28;43mself\u001b[39;49m\u001b[38;5;241;43m.\u001b[39;49m\u001b[43mtrain_targets\u001b[49m\u001b[43m,\u001b[49m\n\u001b[1;32m    298\u001b[0m \u001b[43m        \u001b[49m\u001b[43mlikelihood\u001b[49m\u001b[38;5;241;43m=\u001b[39;49m\u001b[38;5;28;43mself\u001b[39;49m\u001b[38;5;241;43m.\u001b[39;49m\u001b[43mlikelihood\u001b[49m\u001b[43m,\u001b[49m\n\u001b[1;32m    299\u001b[0m \u001b[43m    \u001b[49m\u001b[43m)\u001b[49m\n\u001b[1;32m    301\u001b[0m \u001b[38;5;66;03m# Concatenate the input to the training input\u001b[39;00m\n\u001b[1;32m    302\u001b[0m full_inputs \u001b[38;5;241m=\u001b[39m []\n",
      "File \u001b[0;32m~/ws/robust_BO/rbo-env/lib/python3.12/site-packages/gpytorch/models/exact_prediction_strategies.py:38\u001b[0m, in \u001b[0;36mprediction_strategy\u001b[0;34m(train_inputs, train_prior_dist, train_labels, likelihood)\u001b[0m\n\u001b[1;32m     36\u001b[0m \u001b[38;5;28;01melse\u001b[39;00m:\n\u001b[1;32m     37\u001b[0m     \u001b[38;5;28mcls\u001b[39m \u001b[38;5;241m=\u001b[39m DefaultPredictionStrategy\n\u001b[0;32m---> 38\u001b[0m \u001b[38;5;28;01mreturn\u001b[39;00m \u001b[38;5;28;43mcls\u001b[39;49m\u001b[43m(\u001b[49m\u001b[43mtrain_inputs\u001b[49m\u001b[43m,\u001b[49m\u001b[43m \u001b[49m\u001b[43mtrain_prior_dist\u001b[49m\u001b[43m,\u001b[49m\u001b[43m \u001b[49m\u001b[43mtrain_labels\u001b[49m\u001b[43m,\u001b[49m\u001b[43m \u001b[49m\u001b[43mlikelihood\u001b[49m\u001b[43m)\u001b[49m\n",
      "File \u001b[0;32m~/ws/robust_BO/rbo-env/lib/python3.12/site-packages/gpytorch/kernels/scale_kernel.py:124\u001b[0m, in \u001b[0;36mScaleKernel.prediction_strategy\u001b[0;34m(self, train_inputs, train_prior_dist, train_labels, likelihood)\u001b[0m\n\u001b[1;32m    123\u001b[0m \u001b[38;5;28;01mdef\u001b[39;00m \u001b[38;5;21mprediction_strategy\u001b[39m(\u001b[38;5;28mself\u001b[39m, train_inputs, train_prior_dist, train_labels, likelihood):\n\u001b[0;32m--> 124\u001b[0m     \u001b[38;5;28;01mreturn\u001b[39;00m \u001b[38;5;28;43mself\u001b[39;49m\u001b[38;5;241;43m.\u001b[39;49m\u001b[43mbase_kernel\u001b[49m\u001b[38;5;241;43m.\u001b[39;49m\u001b[43mprediction_strategy\u001b[49m\u001b[43m(\u001b[49m\u001b[43mtrain_inputs\u001b[49m\u001b[43m,\u001b[49m\u001b[43m \u001b[49m\u001b[43mtrain_prior_dist\u001b[49m\u001b[43m,\u001b[49m\u001b[43m \u001b[49m\u001b[43mtrain_labels\u001b[49m\u001b[43m,\u001b[49m\u001b[43m \u001b[49m\u001b[43mlikelihood\u001b[49m\u001b[43m)\u001b[49m\n",
      "File \u001b[0;32m~/ws/robust_BO/rbo-env/lib/python3.12/site-packages/gpytorch/kernels/kernel.py:445\u001b[0m, in \u001b[0;36mKernel.prediction_strategy\u001b[0;34m(self, train_inputs, train_prior_dist, train_labels, likelihood)\u001b[0m\n\u001b[1;32m    438\u001b[0m \u001b[38;5;28;01mdef\u001b[39;00m \u001b[38;5;21mprediction_strategy\u001b[39m(\n\u001b[1;32m    439\u001b[0m     \u001b[38;5;28mself\u001b[39m,\n\u001b[1;32m    440\u001b[0m     train_inputs: Tensor,\n\u001b[0;32m   (...)\u001b[0m\n\u001b[1;32m    443\u001b[0m     likelihood: GaussianLikelihood,\n\u001b[1;32m    444\u001b[0m ) \u001b[38;5;241m-\u001b[39m\u001b[38;5;241m>\u001b[39m exact_prediction_strategies\u001b[38;5;241m.\u001b[39mPredictionStrategy:\n\u001b[0;32m--> 445\u001b[0m     \u001b[38;5;28;01mreturn\u001b[39;00m \u001b[43mexact_prediction_strategies\u001b[49m\u001b[38;5;241;43m.\u001b[39;49m\u001b[43mDefaultPredictionStrategy\u001b[49m\u001b[43m(\u001b[49m\n\u001b[1;32m    446\u001b[0m \u001b[43m        \u001b[49m\u001b[43mtrain_inputs\u001b[49m\u001b[43m,\u001b[49m\u001b[43m \u001b[49m\u001b[43mtrain_prior_dist\u001b[49m\u001b[43m,\u001b[49m\u001b[43m \u001b[49m\u001b[43mtrain_labels\u001b[49m\u001b[43m,\u001b[49m\u001b[43m \u001b[49m\u001b[43mlikelihood\u001b[49m\n\u001b[1;32m    447\u001b[0m \u001b[43m    \u001b[49m\u001b[43m)\u001b[49m\n",
      "File \u001b[0;32m~/ws/robust_BO/rbo-env/lib/python3.12/site-packages/gpytorch/models/exact_prediction_strategies.py:52\u001b[0m, in \u001b[0;36mDefaultPredictionStrategy.__init__\u001b[0;34m(self, train_inputs, train_prior_dist, train_labels, likelihood, root, inv_root)\u001b[0m\n\u001b[1;32m     48\u001b[0m     train_labels \u001b[38;5;241m=\u001b[39m train_labels\u001b[38;5;241m.\u001b[39mreshape(\n\u001b[1;32m     49\u001b[0m         \u001b[38;5;241m*\u001b[39mtrain_labels\u001b[38;5;241m.\u001b[39mshape[: \u001b[38;5;241m-\u001b[39m\u001b[38;5;28mlen\u001b[39m(\u001b[38;5;28mself\u001b[39m\u001b[38;5;241m.\u001b[39mtrain_shape)], \u001b[38;5;28mself\u001b[39m\u001b[38;5;241m.\u001b[39m_train_shape\u001b[38;5;241m.\u001b[39mnumel()\n\u001b[1;32m     50\u001b[0m     )\n\u001b[1;32m     51\u001b[0m \u001b[38;5;28;01mexcept\u001b[39;00m \u001b[38;5;167;01mRuntimeError\u001b[39;00m:\n\u001b[0;32m---> 52\u001b[0m     \u001b[38;5;28;01mraise\u001b[39;00m \u001b[38;5;167;01mRuntimeError\u001b[39;00m(\n\u001b[1;32m     53\u001b[0m         \u001b[38;5;124m\"\u001b[39m\u001b[38;5;124mFlattening the training labels failed. The most common cause of this error is \u001b[39m\u001b[38;5;124m\"\u001b[39m\n\u001b[1;32m     54\u001b[0m         \u001b[38;5;241m+\u001b[39m \u001b[38;5;124m\"\u001b[39m\u001b[38;5;124mthat the shapes of the prior mean and the training labels are mismatched. \u001b[39m\u001b[38;5;124m\"\u001b[39m\n\u001b[1;32m     55\u001b[0m         \u001b[38;5;241m+\u001b[39m \u001b[38;5;124m\"\u001b[39m\u001b[38;5;124mThe shape of the train targets is \u001b[39m\u001b[38;5;132;01m{0}\u001b[39;00m\u001b[38;5;124m, \u001b[39m\u001b[38;5;124m\"\u001b[39m\u001b[38;5;241m.\u001b[39mformat(train_labels\u001b[38;5;241m.\u001b[39mshape)\n\u001b[1;32m     56\u001b[0m         \u001b[38;5;241m+\u001b[39m \u001b[38;5;124m\"\u001b[39m\u001b[38;5;124mwhile the reported shape of the mean is \u001b[39m\u001b[38;5;132;01m{0}\u001b[39;00m\u001b[38;5;124m.\u001b[39m\u001b[38;5;124m\"\u001b[39m\u001b[38;5;241m.\u001b[39mformat(train_prior_dist\u001b[38;5;241m.\u001b[39mmean\u001b[38;5;241m.\u001b[39mshape)\n\u001b[1;32m     57\u001b[0m     )\n\u001b[1;32m     59\u001b[0m \u001b[38;5;28mself\u001b[39m\u001b[38;5;241m.\u001b[39mtrain_inputs \u001b[38;5;241m=\u001b[39m train_inputs\n\u001b[1;32m     60\u001b[0m \u001b[38;5;28mself\u001b[39m\u001b[38;5;241m.\u001b[39mtrain_prior_dist \u001b[38;5;241m=\u001b[39m train_prior_dist\n",
      "\u001b[0;31mRuntimeError\u001b[0m: Flattening the training labels failed. The most common cause of this error is that the shapes of the prior mean and the training labels are mismatched. The shape of the train targets is torch.Size([100, 1]), while the reported shape of the mean is torch.Size([100])."
     ]
    }
   ],
   "source": [
    "import torch\n",
    "import gpytorch\n",
    "\n",
    "class GPFunctionWithOutliers:\n",
    "    def __init__(self, kernel_params, kernel_type='matern', outlier_ratio=0.1):\n",
    "        \"\"\"\n",
    "        Initializes the GP model with the specified kernel and outlier ratio.\n",
    "\n",
    "        Args:\n",
    "            kernel_params (dict): Dictionary containing kernel hyperparameters.\n",
    "                Expected keys are 'outputscale', 'lengthscale', and 'outlier_noise_scale'.\n",
    "            kernel_type (str): Type of kernel to use ('matern' or 'rational_quadratic').\n",
    "            outlier_ratio (float): Probability that a point will be treated as an outlier.\n",
    "        \"\"\"\n",
    "        self.kernel_params = kernel_params\n",
    "        self.kernel_type = kernel_type\n",
    "        self.outlier_ratio = outlier_ratio\n",
    "        \n",
    "        # Initialize Gaussian likelihood\n",
    "        self.likelihood = gpytorch.likelihoods.GaussianLikelihood()\n",
    "\n",
    "    def _build_model(self, x):\n",
    "        \"\"\"\n",
    "        Internal method to build the GP model.\n",
    "        \n",
    "        Args:\n",
    "            x (Tensor): The input x-values for the model.\n",
    "            \n",
    "        Returns:\n",
    "            GPModel: A GP model using the specified kernel type and parameters.\n",
    "        \"\"\"\n",
    "        model = GPModel(train_x=x, train_y=torch.zeros_like(x), likelihood=self.likelihood, kernel_type=self.kernel_type)\n",
    "        model.covar_module.outputscale = torch.tensor(self.kernel_params['outputscale'])\n",
    "        model.covar_module.base_kernel.lengthscale = torch.tensor(self.kernel_params['lengthscale'])\n",
    "        return model\n",
    "\n",
    "    def __call__(self, x: torch.Tensor) -> torch.Tensor:\n",
    "        \"\"\"\n",
    "        Generates a GP sample path with outliers based on the outlier ratio.\n",
    "\n",
    "        Args:\n",
    "            x (Tensor): Input tensor of shape (N,) or (N, 1) where N is the number of data points.\n",
    "\n",
    "        Returns:\n",
    "            Tensor: Output tensor of shape (N, 1) representing the GP sample path with possible outliers.\n",
    "        \"\"\"\n",
    "        # Ensure x is of shape (N, 1)\n",
    "        if x.ndim == 1:\n",
    "            x = x.unsqueeze(1)\n",
    "        elif x.ndim == 2 and x.shape[1] == 1:\n",
    "            pass\n",
    "        else:\n",
    "            raise ValueError(\"Input must be of shape (N,) or (N, 1)\")\n",
    "\n",
    "        # Build and evaluate the model\n",
    "        model = self._build_model(x)\n",
    "        model.eval()\n",
    "        self.likelihood.eval()\n",
    "\n",
    "        # Generate the sample path from the GP posterior\n",
    "        with torch.no_grad():\n",
    "            observed_pred = self.likelihood(model(x))\n",
    "            sample_path = observed_pred.mean\n",
    "\n",
    "        # # Apply outliers based on outlier ratio\n",
    "        # for i in range(sample_path.size(0)):\n",
    "        #     if torch.rand(1).item() < self.outlier_ratio:\n",
    "        #         sample_path[i] += (torch.rand(1) - 0.5) * self.kernel_params.get('outlier_noise_scale', 1.0)\n",
    "\n",
    "        return sample_path\n",
    "\n",
    "\n",
    "class GPModel(gpytorch.models.ExactGP):\n",
    "    def __init__(self, train_x, train_y, likelihood, kernel_type='matern'):\n",
    "        super(GPModel, self).__init__(train_x, train_y, likelihood)\n",
    "        self.mean_module = gpytorch.means.ZeroMean()\n",
    "        \n",
    "        # Use the specified kernel type\n",
    "        if kernel_type == 'matern':\n",
    "            self.covar_module = gpytorch.kernels.ScaleKernel(gpytorch.kernels.MaternKernel(nu=2.5))\n",
    "        elif kernel_type == 'rational_quadratic':\n",
    "            self.covar_module = gpytorch.kernels.ScaleKernel(gpytorch.kernels.RationalQuadraticKernel())\n",
    "\n",
    "    def forward(self, x):\n",
    "        mean_x = self.mean_module(x)\n",
    "        covar_x = self.covar_module(x)\n",
    "        return gpytorch.distributions.MultivariateNormal(mean_x, covar_x)\n",
    "\n",
    "# Example usage:\n",
    "if __name__ == \"__main__\":\n",
    "    # Define kernel parameters\n",
    "    kernel_params = {\n",
    "        'outputscale': 1.0,  # Output scale\n",
    "        'lengthscale': 1.0,  # Length scale\n",
    "        'outlier_noise_scale': 3.0  # Noise scale for outliers\n",
    "    }\n",
    "\n",
    "    # Instantiate the GP function with outliers\n",
    "    gp_function = GPFunctionWithOutliers(kernel_params, kernel_type='matern', outlier_ratio=0.1)\n",
    "\n",
    "    # Example input\n",
    "    x = torch.linspace(-5, 5, 100)\n",
    "\n",
    "    # Generate the sample path\n",
    "    sample_path = gp_function(x)\n",
    "\n",
    "    # Print or plot the result (e.g., using matplotlib)\n",
    "    print(sample_path)\n"
   ]
  },
  {
   "cell_type": "code",
   "execution_count": 97,
   "metadata": {},
   "outputs": [],
   "source": [
    "import gpytorch\n",
    "import torch\n",
    "\n",
    "# ガウス過程モデルの定義\n",
    "class GPModel(gpytorch.models.ExactGP):\n",
    "    def __init__(self, train_x, train_y, likelihood):\n",
    "        super(GPModel, self).__init__(train_x, train_y, likelihood)\n",
    "        self.mean_module = gpytorch.means.ConstantMean()\n",
    "        self.covar_module = gpytorch.kernels.RBFKernel()\n",
    "    \n",
    "    def forward(self, x):\n",
    "        mean_x = self.mean_module(x)\n",
    "        covar_x = self.covar_module(x)\n",
    "        return gpytorch.distributions.MultivariateNormal(mean_x, covar_x)\n",
    "\n",
    "# Likelihoodを設定\n",
    "likelihood = gpytorch.likelihoods.GaussianLikelihood()\n",
    "\n",
    "# 訓練データなしでインスタンス化\n",
    "model = GPModel(None, None, likelihood)\n"
   ]
  },
  {
   "cell_type": "code",
   "execution_count": 99,
   "metadata": {},
   "outputs": [
    {
     "data": {
      "text/plain": [
       "tensor([0.], grad_fn=<ExpandBackward0>)"
      ]
     },
     "execution_count": 99,
     "metadata": {},
     "output_type": "execute_result"
    }
   ],
   "source": [
    "model.forward(torch.tensor([1.0])).mean"
   ]
  }
 ],
 "metadata": {
  "kernelspec": {
   "display_name": "rbo-env",
   "language": "python",
   "name": "python3"
  },
  "language_info": {
   "codemirror_mode": {
    "name": "ipython",
    "version": 3
   },
   "file_extension": ".py",
   "mimetype": "text/x-python",
   "name": "python",
   "nbconvert_exporter": "python",
   "pygments_lexer": "ipython3",
   "version": "3.12.5"
  }
 },
 "nbformat": 4,
 "nbformat_minor": 2
}
